{
 "cells": [
  {
   "cell_type": "markdown",
   "id": "fdeff819",
   "metadata": {},
   "source": [
    "# Sinh Viên thực hiện Lab 2 ở Đây"
   ]
  },
  {
   "cell_type": "markdown",
   "id": "acc5d7dc",
   "metadata": {},
   "source": [
    "## Lab 2 - Bài 1"
   ]
  },
  {
   "cell_type": "code",
   "execution_count": null,
   "id": "001e0507",
   "metadata": {},
   "outputs": [
    {
     "name": "stdout",
     "output_type": "stream",
     "text": [
      "bình an\n"
     ]
    }
   ],
   "source": [
    "Baitho = \"\"\"\n",
    "Kiếp con người mong manh như là gió\n",
    "Sống trên đời có được mấy lần vui\n",
    "Sao phải đau mà không thể mỉm cười\n",
    "Gắng buông nỗi ngậm ngùi nơi quá khứ\n",
    "\n",
    "Nếu có thể sao ta không làm thử\n",
    "Để tâm hồn khắc hai chữ bình an\n",
    "Cho đôi chân bước thanh thản nhẹ nhàng\n",
    "Dù hướng đời có muôn ngàn đá sỏi\n",
    "\"\"\"\n",
    "\n",
    "print(Baitho)\n",
    "timkiem = Baitho.find('con người')\n",
    "print(timkiem)\n",
    "timkiem1 ='con người' in Baitho\n",
    "print(timkiem1)\n",
    "ketthuc = len('con người') + timkiem\n",
    "print(ketthuc)\n",
    "tuchuoi = Baitho[timkiem:ketthuc]\n",
    "print(tuchuoi)\n",
    "print(tuchuoi.upper())\n",
    "\n"
   ]
  },
  {
   "cell_type": "markdown",
   "id": "c0835310",
   "metadata": {},
   "source": [
    "## Lab 2 - Bài 2"
   ]
  },
  {
   "cell_type": "code",
   "execution_count": 1,
   "id": "fa9cb39f",
   "metadata": {},
   "outputs": [
    {
     "name": "stdout",
     "output_type": "stream",
     "text": [
      "\"...\n",
      "Kiếp con người mong manh như là gió\n",
      "Sống trên đời có được mấy lần vui\n",
      "Sao phải đau mà không thể mỉm cười\n",
      "Gắng buông nỗi ngậm ngùi nơi quá khứ\n",
      "\n",
      "Nếu có thể sao ta không làm thử\n",
      "Để tâm hồn khắc hai chữ hạnh phúc\n",
      "Cho đôi chân bước thanh thản nhẹ nhàng\n",
      "Dù hướng đời có muôn ngàn đá sỏi\n",
      "...\"\n"
     ]
    }
   ],
   "source": [
    "Baitho = \"\"\"\n",
    "Kiếp con người mong manh như là gió\n",
    "Sống trên đời có được mấy lần vui\n",
    "Sao phải đau mà không thể mỉm cười\n",
    "Gắng buông nỗi ngậm ngùi nơi quá khứ\n",
    "\n",
    "Nếu có thể sao ta không làm thử\n",
    "Để tâm hồn khắc hai chữ bình an\n",
    "Cho đôi chân bước thanh thản nhẹ nhàng\n",
    "Dù hướng đời có muôn ngàn đá sỏi\n",
    "\"\"\"\n",
    "\n",
    "Baitho = Baitho.replace(\"bình an\", \"hạnh phúc\")\n",
    "\n",
    "Baitho = '\"...' + Baitho + '...\"'\n",
    "print(Baitho)\n"
   ]
  },
  {
   "cell_type": "markdown",
   "id": "0f2483fe",
   "metadata": {},
   "source": [
    "## Lab 2 - Bài 3"
   ]
  },
  {
   "cell_type": "code",
   "execution_count": 1,
   "id": "7034990b",
   "metadata": {},
   "outputs": [
    {
     "name": "stdout",
     "output_type": "stream",
     "text": [
      "Phương trình có nghiệm x = -0.4166666666666667\n"
     ]
    }
   ],
   "source": [
    "a = float(input(\"Nhập hệ số a: \"))\n",
    "b = float(input(\"Nhập hệ số b: \"))\n",
    "\n",
    "# Xét điều kiện\n",
    "if a == 0:\n",
    "    if b == 0:\n",
    "        print(\"Phương trình có vô số nghiệm.\")\n",
    "    else:\n",
    "        print(\"Phương trình vô nghiệm.\")\n",
    "else:\n",
    "    nghiem = -b / a\n",
    "    print(\"Phương trình có nghiệm x =\", nghiem)\n"
   ]
  },
  {
   "cell_type": "markdown",
   "id": "d36ea3d3",
   "metadata": {},
   "source": [
    "## Lab 2 - Bài 4"
   ]
  },
  {
   "cell_type": "code",
   "execution_count": 2,
   "id": "4c707ec1",
   "metadata": {},
   "outputs": [
    {
     "name": "stdout",
     "output_type": "stream",
     "text": [
      "Phương trình vô nghiệm.\n"
     ]
    }
   ],
   "source": [
    "import math\n",
    "\n",
    "a = float(input(\"Nhập hệ số a: \"))\n",
    "b = float(input(\"Nhập hệ số b: \"))\n",
    "c = float(input(\"Nhập hệ số c: \"))\n",
    "\n",
    "if a == 0:\n",
    "    if b == 0:\n",
    "        if c == 0:\n",
    "            print(\"Phương trình có vô số nghiệm.\")\n",
    "        else:\n",
    "            print(\"Phương trình vô nghiệm.\")\n",
    "    else:\n",
    "        x = -c / b\n",
    "        print(\"Phương trình bậc nhất có nghiệm x =\", x)\n",
    "else:\n",
    "    # Giải phương trình bậc hai\n",
    "    delta = b**2 - 4*a*c\n",
    "    if delta < 0:\n",
    "        print(\"Phương trình vô nghiệm.\")\n",
    "    elif delta == 0:\n",
    "        x = -b / (2*a)\n",
    "        print(\"Phương trình có nghiệm kép x =\", x)\n",
    "    else:\n",
    "        x1 = (-b + math.sqrt(delta)) / (2*a)\n",
    "        x2 = (-b - math.sqrt(delta)) / (2*a)\n",
    "        print(\"Phương trình có 2 nghiệm phân biệt:\")\n",
    "        print(\"x1 =\", x1)\n",
    "        print(\"x2 =\", x2)\n"
   ]
  },
  {
   "cell_type": "markdown",
   "id": "e2b41d4a",
   "metadata": {},
   "source": [
    "## Lab 2 - Bài 5: bài tập làm thêm"
   ]
  },
  {
   "cell_type": "code",
   "execution_count": 5,
   "id": "0e0172f7",
   "metadata": {},
   "outputs": [
    {
     "name": "stdout",
     "output_type": "stream",
     "text": [
      "Phép tính cơ bản\n",
      "Tổng 5.0\n",
      "Hiệu 1.0\n",
      "Tích 6.0\n",
      "Thương 1.5\n",
      "Lũy thừa\n",
      "6.0^12.0 = 2176782336.0\n",
      "Căn bậc hai\n",
      "5.0 = 2.23606797749979\n",
      "Hàm lượng giác\n",
      "sin( 90.0 ) = 1.0\n",
      "cos( 90.0 ) = 6.123233995736766e-17\n",
      "tan( 90.0 ) = 1.633123935319537e+16\n",
      "Logarit\n",
      "log10(x) = 1.0791812460476249\n",
      "ln(x) = 2.4849066497880004\n",
      "log_30.0(12.0) = 0.7305976016521668\n",
      "Tìm số lớn nhất\n",
      "Số lớn nhất là: 6.0\n"
     ]
    }
   ],
   "source": [
    "import math\n",
    "\n",
    "# Bài 1: Phép tính cơ bản\n",
    "print(\"Phép tính cơ bản\")\n",
    "a = float(input(\"Nhập a: \"))\n",
    "b = float(input(\"Nhập b: \"))\n",
    "print(\"Tổng\", a + b)\n",
    "print(\"Hiệu\", a - b)\n",
    "print(\"Tích\", a * b)\n",
    "if b != 0:\n",
    "    print(\"Thương\", a / b)\n",
    "else:\n",
    "    print(\"Không thể chia cho 0\")\n",
    "\n",
    "# Bài 2: Lũy thừa\n",
    "print(\"Lũy thừa\")\n",
    "x = float(input(\"Nhập số x: \"))\n",
    "y = float(input(\"Nhập số mũ y: \"))\n",
    "print(f\"{x}^{y} =\", x ** y)\n",
    "\n",
    "# Bài 3: Căn bậc hai\n",
    "print(\"Căn bậc hai\")\n",
    "x = float(input(\"Nhập số x: \"))\n",
    "if x >= 0:\n",
    "    print( x, \"=\", math.sqrt(x))\n",
    "else:\n",
    "    print(\"Không thể tính căn bậc hai số âm\")\n",
    "\n",
    "# Bài 4: Hàm lượng giác\n",
    "print(\"Hàm lượng giác\")\n",
    "goc = float(input(\"Nhập góc (độ): \"))\n",
    "rad = math.radians(goc)\n",
    "print(\"sin(\", goc, \") =\", math.sin(rad))\n",
    "print(\"cos(\", goc, \") =\", math.cos(rad))\n",
    "print(\"tan(\", goc, \") =\", math.tan(rad))\n",
    "\n",
    "# Bài 5: Logarit\n",
    "print(\"Logarit\")\n",
    "x = float(input(\"Nhập số x (>0): \"))\n",
    "if x > 0:\n",
    "    print(\"log10(x) =\", math.log10(x))\n",
    "    print(\"ln(x) =\", math.log(x))\n",
    "    co_so = float(input(\"Nhập cơ số log: \"))\n",
    "    if co_so > 0 and co_so != 1:\n",
    "        print(f\"log_{co_so}({x}) =\", math.log(x, co_so))\n",
    "    else:\n",
    "        print(\"Cơ số không hợp lệ (phải >0 và khác 1)\")\n",
    "else:\n",
    "    print(\"x phải > 0 để tính logarit\")\n",
    "\n",
    "# Bài 6: Tìm số lớn nhất trong 3 số\n",
    "print(\"Tìm số lớn nhất\")\n",
    "so1 = float(input(\"Nhập số thứ nhất: \"))\n",
    "so2 = float(input(\"Nhập số thứ hai: \"))\n",
    "so3 = float(input(\"Nhập số thứ ba: \"))\n",
    "print(\"Số lớn nhất là:\", max(so1, so2, so3))\n"
   ]
  }
 ],
 "metadata": {
  "kernelspec": {
   "display_name": "Python 3",
   "language": "python",
   "name": "python3"
  },
  "language_info": {
   "codemirror_mode": {
    "name": "ipython",
    "version": 3
   },
   "file_extension": ".py",
   "mimetype": "text/x-python",
   "name": "python",
   "nbconvert_exporter": "python",
   "pygments_lexer": "ipython3",
   "version": "3.13.7"
  }
 },
 "nbformat": 4,
 "nbformat_minor": 5
}
