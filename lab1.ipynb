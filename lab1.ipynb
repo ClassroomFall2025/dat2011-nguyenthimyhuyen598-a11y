{
 "cells": [
  {
   "cell_type": "markdown",
   "id": "fdeff819",
   "metadata": {},
   "source": [
    "# Sinh Viên thực hiện Lab 1 ở Đây"
   ]
  },
  {
   "cell_type": "markdown",
   "id": "acc5d7dc",
   "metadata": {},
   "source": [
    "## Lab 1 - Bài 1"
   ]
  },
  {
   "cell_type": "code",
   "execution_count": 11,
   "id": "001e0507",
   "metadata": {},
   "outputs": [
    {
     "name": "stdout",
     "output_type": "stream",
     "text": [
      "Xin chào!\n",
      "tôi tên là Nguyễn Thị Mỹ Huyền.\n",
      "Tôi đến từ Tây Ninh.\n"
     ]
    }
   ],
   "source": [
    "# Code lab 1 bài 1 ở đây\n",
    "print(\"Xin chào!\")\n",
    "print(\"tôi tên là Nguyễn Thị Mỹ Huyền.\")\n",
    "print(\"Tôi đến từ Tây Ninh.\")"
   ]
  },
  {
   "cell_type": "markdown",
   "id": "c0835310",
   "metadata": {},
   "source": [
    "## Lab 1 - Bài 2"
   ]
  },
  {
   "cell_type": "code",
   "execution_count": 2,
   "id": "5f2fcf0c",
   "metadata": {},
   "outputs": [
    {
     "name": "stdout",
     "output_type": "stream",
     "text": [
      "Chu vi hình chữ nhật là: 14.0\n",
      "Diện tích hình chữ nhật là: 10.0\n"
     ]
    }
   ],
   "source": [
    "# Nhập dữ liệu từ bàn phím\n",
    "dai = float(input(\"Nhập chiều dài: \"))\n",
    "rong = float(input(\"Nhập chiều rộng: \"))\n",
    "\n",
    "# Tính chu vi và diện tích\n",
    "chu_vi = (dai + rong) * 2\n",
    "dien_tich = dai * rong\n",
    "\n",
    "# Xuất kết quả\n",
    "print(\"Chu vi hình chữ nhật là:\", chu_vi)\n",
    "print(\"Diện tích hình chữ nhật là:\", dien_tich)\n"
   ]
  },
  {
   "cell_type": "markdown",
   "id": "0f2483fe",
   "metadata": {},
   "source": [
    "## Lab 1 - Bài 3"
   ]
  },
  {
   "cell_type": "code",
   "execution_count": 5,
   "id": "7034990b",
   "metadata": {},
   "outputs": [
    {
     "name": "stdout",
     "output_type": "stream",
     "text": [
      "\"...\n",
      "Sống không giận, không hờn không oán trách\n",
      "Sống mỉm cười, với thử thách chông gai\n",
      "Sống vươn lên, theo kịp ánh ban mai\n",
      "Sống chan hòa, với những người chung sống.\n",
      "\n",
      "Sống là động, nhưng lòng luôn bất động\n",
      "Sống là thương, nhưng lòng chẳng vấn vương\n",
      "Sống yên vui, danh lợi mãi coi thường\n",
      "Tâm bất biến, giữa dòng đời vạn biến.\n",
      "...\"\n"
     ]
    }
   ],
   "source": [
    "# Khai báo biến\n",
    "song = \"Sống\"\n",
    "\n",
    "print('\"...')  \n",
    "\n",
    "print(f\"{song} không giận, không hờn không oán trách\")\n",
    "print(f\"{song} mỉm cười, với thử thách chông gai\")\n",
    "print(f\"{song} vươn lên, theo kịp ánh ban mai\")\n",
    "print(f\"{song} chan hòa, với những người chung sống.\")\n",
    "print()  \n",
    "print(f\"{song} là động, nhưng lòng luôn bất động\")\n",
    "print(f\"{song} là thương, nhưng lòng chẳng vấn vương\")\n",
    "print(f\"{song} yên vui, danh lợi mãi coi thường\")\n",
    "print(\"Tâm bất biến, giữa dòng đời vạn biến.\")\n",
    "\n",
    "print('...\"') "
   ]
  },
  {
   "cell_type": "markdown",
   "id": "d36ea3d3",
   "metadata": {},
   "source": [
    "## Lab 1 - Bài 4"
   ]
  },
  {
   "cell_type": "code",
   "execution_count": 13,
   "id": "4c707ec1",
   "metadata": {},
   "outputs": [
    {
     "name": "stdout",
     "output_type": "stream",
     "text": [
      "Delta = 8.0\n",
      "Căn delta = 2.8284271247461903\n"
     ]
    }
   ],
   "source": [
    "import math\n",
    "\n",
    "# Nhập hệ số\n",
    "a = float(input(\"Nhập hệ số a: \"))\n",
    "b = float(input(\"Nhập hệ số b: \"))\n",
    "c = float(input(\"Nhập hệ số c: \"))\n",
    "\n",
    "# Tính delta\n",
    "delta = b*b - 4*a*c\n",
    "print(\"Delta =\", delta)\n",
    "\n",
    "# Tính căn delta \n",
    "can_delta = math.sqrt(abs(delta))\n",
    "print(\"Căn delta =\", can_delta)\n"
   ]
  },
  {
   "cell_type": "markdown",
   "id": "e2b41d4a",
   "metadata": {},
   "source": [
    "## Lab 1 - Bài 5: bài tập làm thêm"
   ]
  },
  {
   "cell_type": "code",
   "execution_count": 14,
   "id": "0e0172f7",
   "metadata": {},
   "outputs": [
    {
     "name": "stdout",
     "output_type": "stream",
     "text": [
      "Cộng: 8\n",
      "Trừ: 2\n",
      "Nhân: 15\n",
      "Chia: 1.6666666666666667\n",
      "2^5 = 32\n",
      "Căn bậc hai của 16 = 4.0\n",
      "sin(30°) = 0.49999999999999994\n",
      "cos(30°) = 0.8660254037844387\n",
      "tan(30°) = 0.5773502691896257\n",
      "log10( 100 ) = 2.0\n",
      "ln( 100 ) = 4.605170185988092\n",
      "log cơ số 2 của 100 = 6.643856189774725\n"
     ]
    }
   ],
   "source": [
    "import math\n",
    "\n",
    "# 1. Phép tính cơ bản\n",
    "a = 5\n",
    "b = 3\n",
    "print(\"Cộng:\", a + b)\n",
    "print(\"Trừ:\", a - b)\n",
    "print(\"Nhân:\", a * b)\n",
    "print(\"Chia:\", a / b)\n",
    "\n",
    "# 2. Lũy thừa\n",
    "x = 2\n",
    "y = 5\n",
    "print(f\"{x}^{y} =\", x ** y)\n",
    "\n",
    "# 3. Căn bậc hai\n",
    "n = 16\n",
    "print(\"Căn bậc hai của\", n, \"=\", math.sqrt(n))\n",
    "\n",
    "# 4. Hàm lượng giác (sin, cos, tan) - tính theo radian\n",
    "goc = math.radians(30)  # đổi 30 độ sang radian\n",
    "print(\"sin(30°) =\", math.sin(goc))\n",
    "print(\"cos(30°) =\", math.cos(goc))\n",
    "print(\"tan(30°) =\", math.tan(goc))\n",
    "\n",
    "# 5. Logarit\n",
    "m = 100\n",
    "print(\"log10(\", m, \") =\", math.log10(m))   # log cơ số 10\n",
    "print(\"ln(\", m, \") =\", math.log(m))        # log tự nhiên (ln)\n",
    "print(\"log cơ số 2 của\", m, \"=\", math.log(m, 2))  # log cơ số 2\n"
   ]
  }
 ],
 "metadata": {
  "kernelspec": {
   "display_name": "Python 3",
   "language": "python",
   "name": "python3"
  },
  "language_info": {
   "codemirror_mode": {
    "name": "ipython",
    "version": 3
   },
   "file_extension": ".py",
   "mimetype": "text/x-python",
   "name": "python",
   "nbconvert_exporter": "python",
   "pygments_lexer": "ipython3",
   "version": "3.13.7"
  }
 },
 "nbformat": 4,
 "nbformat_minor": 5
}
