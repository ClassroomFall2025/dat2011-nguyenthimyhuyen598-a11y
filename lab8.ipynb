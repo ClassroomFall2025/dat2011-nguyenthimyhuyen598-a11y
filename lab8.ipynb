{
 "cells": [
  {
   "cell_type": "markdown",
   "id": "fdeff819",
   "metadata": {},
   "source": [
    "# Sinh Viên thực hiện Lab 8 ở Đây"
   ]
  },
  {
   "cell_type": "markdown",
   "id": "acc5d7dc",
   "metadata": {},
   "source": [
    "## Lab 8 - Bài 1"
   ]
  },
  {
   "cell_type": "code",
   "execution_count": 4,
   "id": "001e0507",
   "metadata": {},
   "outputs": [
    {
     "name": "stdout",
     "output_type": "stream",
     "text": [
      "['Nguyễn', 'Tấn', 'Huy']\n",
      "NGUYỄN  Tấn HUY\n"
     ]
    }
   ],
   "source": [
    "Hoten = input(\"Nhập họ và tên: \").strip()\n",
    "list_hoten = [tu for tu in Hoten.split()]\n",
    "print(list_hoten)\n",
    "ten_dem = \" \"\n",
    "for phan_tu in list_hoten[1:-1]:\n",
    "    ten_dem = ten_dem + phan_tu \n",
    "\n",
    "print(f'{list_hoten[0].upper()} {ten_dem} {list_hoten[-1].upper()}')"
   ]
  },
  {
   "cell_type": "markdown",
   "id": "c0835310",
   "metadata": {},
   "source": [
    "## Lab 8 - Bài 2"
   ]
  },
  {
   "cell_type": "code",
   "execution_count": null,
   "id": "fa9cb39f",
   "metadata": {},
   "outputs": [
    {
     "name": "stdout",
     "output_type": "stream",
     "text": [
      "Email hợp lệ.\n",
      "Số điện thoại hợp lệ.\n",
      "Số CCCD hợp lệ.\n",
      "Họ tên: Nguyễn Tấn Huy\n",
      "Email: nguyen@gmail.com\n",
      "Số điện thoại: 0395117598\n",
      "CCCD: 093306005454\n"
     ]
    }
   ],
   "source": [
    "import re\n",
    "sv = {\n",
    "    \"Họ tên \": \"\",\n",
    "    \"Email \": \"\",\n",
    "    \"Số điện thoại \": \"\",\n",
    "    \"CCCD \": \"\"\n",
    "}\n",
    "regex_email = r\"^[a-zA-Z0-9._-]+@[a-zA-Z0-9.-]+\\.[a-zA-Z]{2,}$\"\n",
    "regex_phone = r\"^0[1-9]{1}[0-9]{8}$\"\n",
    "regex_cccd = r\"^(00[1-9]|0[1-8][0-9]|09[0-6])[0-9][0-9]{2}[0-9]{6}$\"\n",
    "\n",
    "while True:\n",
    "    email = input(\"Nhập email: \")\n",
    "    if re.match(regex_email, email):\n",
    "        print(\"Email hợp lệ.\")\n",
    "        break\n",
    "    else:\n",
    "        print(\"Email chưa đúng!\")\n",
    "\n",
    "while True:\n",
    "    phone = input(\"Nhập số điện thoại: \")\n",
    "    if re.match(regex_phone, phone):\n",
    "        print(\"Số điện thoại hợp lệ.\")\n",
    "        break\n",
    "    else:\n",
    "        print(\"Số điện thoại chưa đúng!\")\n",
    "while True:\n",
    "    cccd = input(\"Nhập số CCCD: \")\n",
    "    if re.match(regex_cccd, cccd):\n",
    "        print(\"Số CCCD hợp lệ.\")\n",
    "        break\n",
    "    else:\n",
    "        print(\"Số CCCD chưa đúng!\")\n",
    "\n",
    "\n",
    "print(f'Họ tên: {Hoten}')\n",
    "sv[\"Họ tên \"] = Hoten\n",
    "print(f'Email: {email}')\n",
    "print(f'Số điện thoại: {phone}')\n",
    "print(f'CCCD: {cccd}')\n"
   ]
  },
  {
   "cell_type": "markdown",
   "id": "0f2483fe",
   "metadata": {},
   "source": [
    "## Lab 8 - Bài 3"
   ]
  },
  {
   "cell_type": "code",
   "execution_count": null,
   "id": "7034990b",
   "metadata": {},
   "outputs": [
    {
     "name": "stdout",
     "output_type": "stream",
     "text": [
      "Đã tạo file lab8.txt với 1 triệu số ngẫu nhiên.\n"
     ]
    }
   ],
   "source": [
    "import random\n",
    "list_ngau_nhien = [random.randint(0, 100) for _ in range(1_000_000)]\n",
    "with open(\"lab8.txt\", \"w\", encoding=\"utf-8\" ) as f:\n",
    "    for i , so in enumerate (list_ngau_nhien):\n",
    "        if i > 0:\n",
    "            f.write(\", \")\n",
    "        f.write(str(so))\n",
    "\n",
    "print(\"Đã tạo file với 1 triệu số ngẫu nhiên.\")\n"
   ]
  },
  {
   "cell_type": "markdown",
   "id": "d36ea3d3",
   "metadata": {},
   "source": [
    "## Lab 8 - Bài 4"
   ]
  },
  {
   "cell_type": "code",
   "execution_count": 10,
   "id": "4c707ec1",
   "metadata": {},
   "outputs": [
    {
     "name": "stdout",
     "output_type": "stream",
     "text": [
      "Trung bình: 50.04\n",
      "Độ lệch chuẩn: 29.19\n"
     ]
    }
   ],
   "source": [
    "import statistics\n",
    "\n",
    "with open(\"lab8.txt\", \"r\") as f:\n",
    "    data = list(map(int, f.read().split(\", \")))\n",
    "\n",
    "mean = statistics.mean(data)\n",
    "stdev = statistics.stdev(data)\n",
    "\n",
    "print(f\"Trung bình: {mean:.2f}\")\n",
    "print(f\"Độ lệch chuẩn: {stdev:.2f}\")\n"
   ]
  },
  {
   "cell_type": "markdown",
   "id": "e2b41d4a",
   "metadata": {},
   "source": [
    "## Lab 8 - Bài 5: bài tập làm thêm"
   ]
  },
  {
   "cell_type": "code",
   "execution_count": null,
   "id": "0e0172f7",
   "metadata": {},
   "outputs": [],
   "source": [
    "# code lab 8  bài làm thêm ở đây "
   ]
  }
 ],
 "metadata": {
  "kernelspec": {
   "display_name": "Python 3",
   "language": "python",
   "name": "python3"
  },
  "language_info": {
   "codemirror_mode": {
    "name": "ipython",
    "version": 3
   },
   "file_extension": ".py",
   "mimetype": "text/x-python",
   "name": "python",
   "nbconvert_exporter": "python",
   "pygments_lexer": "ipython3",
   "version": "3.13.7"
  }
 },
 "nbformat": 4,
 "nbformat_minor": 5
}
