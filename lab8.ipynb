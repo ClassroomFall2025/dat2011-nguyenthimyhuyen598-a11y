{
 "cells": [
  {
   "cell_type": "markdown",
   "id": "fdeff819",
   "metadata": {},
   "source": [
    "# Sinh Viên thực hiện Lab 8 ở Đây"
   ]
  },
  {
   "cell_type": "markdown",
   "id": "acc5d7dc",
   "metadata": {},
   "source": [
    "## Lab 8 - Bài 1"
   ]
  },
  {
   "cell_type": "code",
   "execution_count": 1,
   "id": "001e0507",
   "metadata": {},
   "outputs": [
    {
     "name": "stdout",
     "output_type": "stream",
     "text": [
      "Họ: NGUYỄN\n",
      "Tên đệm: Thị Mỹ\n",
      "Tên: HUYỀN\n"
     ]
    }
   ],
   "source": [
    "full_name = input(\"Nhập họ và tên: \").strip()\n",
    "\n",
    "# Tách các từ bằng split()\n",
    "parts = full_name.split()\n",
    "\n",
    "ho = parts[0].upper()\n",
    "ten = parts[-1].upper()\n",
    "ten_dem = \" \".join(parts[1:-1]) if len(parts) > 2 else \"\"\n",
    "\n",
    "print(f\"Họ: {ho}\")\n",
    "print(f\"Tên đệm: {ten_dem}\")\n",
    "print(f\"Tên: {ten}\")"
   ]
  },
  {
   "cell_type": "markdown",
   "id": "c0835310",
   "metadata": {},
   "source": [
    "## Lab 8 - Bài 2"
   ]
  },
  {
   "cell_type": "code",
   "execution_count": null,
   "id": "fa9cb39f",
   "metadata": {},
   "outputs": [
    {
     "name": "stdout",
     "output_type": "stream",
     "text": [
      "\n",
      "Thông tin sinh viên hợp lệ:\n",
      "Họ tên: Nguyễn huyền\n",
      "Email: nguyenhuyen@gmail.com\n",
      "Số điện thoại: 0395117598\n",
      "CMND: 093306005454\n"
     ]
    }
   ],
   "source": [
    "import re\n",
    "def nhap_sinh_vien():\n",
    "    sv = {}\n",
    "    sv[\"Họ tên\"] = input(\"Nhập họ tên: \")\n",
    "    #Kiểm tra Email\n",
    "    while True:\n",
    "        email = input(\"Nhập email: \")\n",
    "        if re.match(r\"^[\\w\\.-]+@[\\w\\.-]+\\.\\w+$\", email):\n",
    "            sv[\"Email\"] = email\n",
    "            break\n",
    "        else:\n",
    "            print(\"Email không hợp lệ!\")\n",
    "    #Kiểm tra SĐT\n",
    "    while True:\n",
    "        sdt = input(\"Nhập số điện thoại: \")\n",
    "        if re.match(r\"^(0|\\+84)\\d{9}$\", sdt):\n",
    "            sv[\"Số điện thoại\"] = sdt\n",
    "            break\n",
    "        else:\n",
    "            print(\"Số điện thoại không hợp lệ!\")\n",
    "    #Kiểm tra CCCD\n",
    "    while True:\n",
    "        cmnd = input(\"Nhập CCCD: \")\n",
    "        if re.match(r\"^\\d{9,12}$\", cmnd):\n",
    "            sv[\"CMND\"] = cmnd\n",
    "            break\n",
    "        else:\n",
    "            print(\"CCCD không hợp lệ!\")\n",
    "\n",
    "    return sv\n",
    "\n",
    "#Gọi hàm\n",
    "sinh_vien = nhap_sinh_vien()\n",
    "print(\"\\nThông tin sinh viên hợp lệ:\")\n",
    "for k, v in sinh_vien.items():\n",
    "    print(f\"{k}: {v}\")\n",
    "\n"
   ]
  },
  {
   "cell_type": "markdown",
   "id": "0f2483fe",
   "metadata": {},
   "source": [
    "## Lab 8 - Bài 3"
   ]
  },
  {
   "cell_type": "code",
   "execution_count": 5,
   "id": "7034990b",
   "metadata": {},
   "outputs": [
    {
     "name": "stdout",
     "output_type": "stream",
     "text": [
      "Đã tạo file lab8.txt với 1 triệu số ngẫu nhiên.\n"
     ]
    }
   ],
   "source": [
    "import random\n",
    "with open(\"lab8.txt\", \"w\") as f:\n",
    "    numbers = [str(random.randint(0, 100)) for _ in range(1_000_000)]\n",
    "    f.write(\" \".join(numbers))\n",
    "\n",
    "print(\"Đã tạo file lab8.txt với 1 triệu số ngẫu nhiên.\")\n"
   ]
  },
  {
   "cell_type": "markdown",
   "id": "d36ea3d3",
   "metadata": {},
   "source": [
    "## Lab 8 - Bài 4"
   ]
  },
  {
   "cell_type": "code",
   "execution_count": 6,
   "id": "4c707ec1",
   "metadata": {},
   "outputs": [
    {
     "name": "stdout",
     "output_type": "stream",
     "text": [
      "Trung bình: 50.00\n",
      "Độ lệch chuẩn: 29.16\n"
     ]
    }
   ],
   "source": [
    "import statistics\n",
    "\n",
    "with open(\"lab8.txt\", \"r\") as f:\n",
    "    data = list(map(int, f.read().split()))\n",
    "\n",
    "mean = statistics.mean(data)\n",
    "stdev = statistics.stdev(data)\n",
    "\n",
    "print(f\"Trung bình: {mean:.2f}\")\n",
    "print(f\"Độ lệch chuẩn: {stdev:.2f}\")\n"
   ]
  },
  {
   "cell_type": "markdown",
   "id": "e2b41d4a",
   "metadata": {},
   "source": [
    "## Lab 8 - Bài 5: bài tập làm thêm"
   ]
  },
  {
   "cell_type": "code",
   "execution_count": null,
   "id": "0e0172f7",
   "metadata": {},
   "outputs": [],
   "source": [
    "# code lab 8  bài làm thêm ở đây "
   ]
  }
 ],
 "metadata": {
  "kernelspec": {
   "display_name": "Python 3",
   "language": "python",
   "name": "python3"
  },
  "language_info": {
   "codemirror_mode": {
    "name": "ipython",
    "version": 3
   },
   "file_extension": ".py",
   "mimetype": "text/x-python",
   "name": "python",
   "nbconvert_exporter": "python",
   "pygments_lexer": "ipython3",
   "version": "3.13.7"
  }
 },
 "nbformat": 4,
 "nbformat_minor": 5
}
