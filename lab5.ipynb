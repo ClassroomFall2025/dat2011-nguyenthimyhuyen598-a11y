{
 "cells": [
  {
   "cell_type": "markdown",
   "id": "fdeff819",
   "metadata": {},
   "source": [
    "# Sinh Viên thực hiện Lab 5 ở Đây"
   ]
  },
  {
   "cell_type": "markdown",
   "id": "acc5d7dc",
   "metadata": {},
   "source": [
    "## Lab 5 - Bài 1"
   ]
  },
  {
   "cell_type": "code",
   "execution_count": 1,
   "id": "001e0507",
   "metadata": {},
   "outputs": [
    {
     "name": "stdout",
     "output_type": "stream",
     "text": [
      "Tên sản phẩm: bear, Đơn giá: 20000.0, Giảm giá: 1.0, Thuế nhập khẩu: 2000.0\n"
     ]
    }
   ],
   "source": [
    "from lab5 import *\n",
    "sp1 = Sanpham(\"\",\"\",\"\")\n",
    "sp1.nhap_sp()\n",
    "sp1.xuat_tt_sp()"
   ]
  },
  {
   "cell_type": "markdown",
   "id": "c0835310",
   "metadata": {},
   "source": [
    "## Lab 5 - Bài 2"
   ]
  },
  {
   "cell_type": "code",
   "execution_count": null,
   "id": "fa9cb39f",
   "metadata": {},
   "outputs": [],
   "source": []
  },
  {
   "cell_type": "markdown",
   "id": "0f2483fe",
   "metadata": {},
   "source": [
    "## Lab 5 - Bài 3"
   ]
  },
  {
   "cell_type": "code",
   "execution_count": null,
   "id": "7034990b",
   "metadata": {},
   "outputs": [],
   "source": [
    "# Code lab 5  bài 3 ở đây"
   ]
  },
  {
   "cell_type": "markdown",
   "id": "d36ea3d3",
   "metadata": {},
   "source": [
    "## Lab 5 - Bài 4"
   ]
  },
  {
   "cell_type": "code",
   "execution_count": null,
   "id": "4c707ec1",
   "metadata": {},
   "outputs": [
    {
     "name": "stdout",
     "output_type": "stream",
     "text": [
      "Thông tin sản phẩm 1:\n",
      "Tên sản phẩm: bear, Đơn giá: 50000.0, Giảm giá: 5000.0, Thuế nhập khẩu: 5000.0\n",
      "\n",
      "Thông tin sản phẩm 2:\n",
      "Tên sản phẩm: bánh, Đơn giá: 6000.0, Giảm giá: 2000.0, Thuế nhập khẩu: 600.0\n"
     ]
    }
   ],
   "source": [
    "from lab5 import Sanpham\n",
    "\n",
    "# Tạo đối tượng có tham số\n",
    "sp1 = Sanpham(\"\", \"\", \"\")\n",
    "sp2 = Sanpham(\"\", \"\", \"\")\n",
    "# Nhập thông tin sản phẩm\n",
    "sp1.nhap_sp()\n",
    "sp2.nhap_sp()   \n",
    "# Xuất thông tin sản phẩm\n",
    "print(\"Thông tin sản phẩm 1:\")\n",
    "sp1.xuat_tt_sp()\n",
    "\n",
    "print(\"\\nThông tin sản phẩm 2:\")\n",
    "sp2.xuat_tt_sp()\n"
   ]
  },
  {
   "cell_type": "markdown",
   "id": "e2b41d4a",
   "metadata": {},
   "source": [
    "## Lab 5 - Bài 5: bài tập làm thêm"
   ]
  },
  {
   "cell_type": "code",
   "execution_count": null,
   "id": "0e0172f7",
   "metadata": {},
   "outputs": [],
   "source": [
    "# code lab 5  bài làm thêm ở đây "
   ]
  }
 ],
 "metadata": {
  "kernelspec": {
   "display_name": "Python 3",
   "language": "python",
   "name": "python3"
  },
  "language_info": {
   "codemirror_mode": {
    "name": "ipython",
    "version": 3
   },
   "file_extension": ".py",
   "mimetype": "text/x-python",
   "name": "python",
   "nbconvert_exporter": "python",
   "pygments_lexer": "ipython3",
   "version": "3.13.7"
  }
 },
 "nbformat": 4,
 "nbformat_minor": 5
}
