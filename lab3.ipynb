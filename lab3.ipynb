{
 "cells": [
  {
   "cell_type": "markdown",
   "id": "fdeff819",
   "metadata": {},
   "source": [
    "# Sinh Viên thực hiện Lab 3 ở Đây"
   ]
  },
  {
   "cell_type": "markdown",
   "id": "acc5d7dc",
   "metadata": {},
   "source": [
    "## Lab 3 - Bài 1"
   ]
  },
  {
   "cell_type": "code",
   "execution_count": 10,
   "id": "001e0507",
   "metadata": {},
   "outputs": [
    {
     "name": "stdout",
     "output_type": "stream",
     "text": [
      "Thóat không nhập\n",
      "[12, 3, 5]\n",
      "dãy số đã sắp xếp [3, 5, 12]\n",
      "Phần tử nhỏ nhất: 3\n",
      "Trung bình cộng các số chia hết cho 3: 7.5\n"
     ]
    }
   ],
   "source": [
    "day_so = []\n",
    "# nhap day so\n",
    "while True:\n",
    "    so = input(\"Nhập số : \")\n",
    "    if so.lower () == \"q\":\n",
    "        print (\"Thóat không nhập\")\n",
    "        break\n",
    "    else:\n",
    "        try:\n",
    "            phan_tu = int(so)\n",
    "            day_so.append(phan_tu)\n",
    "        except ValueError:\n",
    "            print(\"Nhập không đúng, hãy nhập số q để thóat chương trình\")\n",
    "print(day_so)\n",
    "# sap xep day so tang dan\n",
    "if day_so:\n",
    " day_so.sort()\n",
    "print(\"dãy số đã sắp xếp\", day_so)\n",
    "print(\"Phần tử nhỏ nhất:\", day_so[0])\n",
    "\n",
    "tong = 0\n",
    "dem = 0\n",
    "for phantu in day_so:\n",
    "     if phantu % 3 == 0:\n",
    "        tong += phantu\n",
    "        dem += 1\n",
    "\n",
    "if dem > 0:\n",
    "    tbc = tong / dem\n",
    "    print(\"Trung bình cộng các số chia hết cho 3:\", tbc)\n",
    "else:\n",
    "    print(\"Không có phần tử nào chia hết cho 3\")\n"
   ]
  },
  {
   "cell_type": "markdown",
   "id": "c0835310",
   "metadata": {},
   "source": [
    "## Lab 3 - Bài 2"
   ]
  },
  {
   "cell_type": "code",
   "execution_count": 3,
   "id": "54274830",
   "metadata": {},
   "outputs": [
    {
     "name": "stdout",
     "output_type": "stream",
     "text": [
      "Thông tin sinh viên\n",
      "Họ tên: a\n",
      "Điểm: 5.0\n",
      "Xếp loại: Trung bình\n"
     ]
    }
   ],
   "source": [
    "# Nhập thông tin sinh viên\n",
    "sv = {}\n",
    "sv[\"Họ tên\"] = input(\"Nhập họ tên sinh viên: \")\n",
    "sv[\"Điểm\"] = float(input(\"Nhập điểm: \"))\n",
    "\n",
    "# Xét loại\n",
    "diem = sv[\"Điểm\"]\n",
    "if diem < 5:\n",
    "    xeploai = \"Yếu\"\n",
    "elif diem < 7:\n",
    "    xeploai = \"Trung bình\"\n",
    "elif diem < 8:\n",
    "    xeploai = \"Khá\"\n",
    "elif diem < 9:\n",
    "    xeploai = \"Giỏi\"\n",
    "else:\n",
    "    xeploai = \"Xuất sắc\"\n",
    "\n",
    "sv[\"Xếp loại\"] = xeploai\n",
    "\n",
    "# Xuất thông tin\n",
    "print(\"Thông tin sinh viên\")\n",
    "print(\"Họ tên:\", sv[\"Họ tên\"])\n",
    "print(\"Điểm:\", sv[\"Điểm\"])\n",
    "print(\"Xếp loại:\", sv[\"Xếp loại\"])"
   ]
  },
  {
   "cell_type": "markdown",
   "id": "0f2483fe",
   "metadata": {},
   "source": [
    "## Lab 3 - Bài 3"
   ]
  },
  {
   "cell_type": "code",
   "execution_count": 1,
   "id": "7034990b",
   "metadata": {},
   "outputs": [
    {
     "name": "stdout",
     "output_type": "stream",
     "text": [
      "4 không phải số nguyên tố\n"
     ]
    }
   ],
   "source": [
    "n = int(input(\"Nhập số nguyên n: \"))\n",
    "\n",
    "ok = True\n",
    "if n <= 1:\n",
    "    ok = False\n",
    "else:\n",
    "    i = 2\n",
    "    while i < n:\n",
    "        if n % i == 0:   \n",
    "            ok = False\n",
    "            break\n",
    "        i += 1\n",
    "if ok:\n",
    "    print(f\"{n} là số nguyên tố\")\n",
    "else:\n",
    "    print(f\"{n} không phải số nguyên tố\")\n"
   ]
  },
  {
   "cell_type": "markdown",
   "id": "d36ea3d3",
   "metadata": {},
   "source": [
    "## Lab 3 - Bài 4"
   ]
  },
  {
   "cell_type": "code",
   "execution_count": 8,
   "id": "4c707ec1",
   "metadata": {},
   "outputs": [
    {
     "name": "stdout",
     "output_type": "stream",
     "text": [
      "1 x 1 =  1\t2 x 1 =  2\t3 x 1 =  3\t4 x 1 =  4\t5 x 1 =  5\t6 x 1 =  6\t7 x 1 =  7\t8 x 1 =  8\t9 x 1 =  9\t\n",
      "1 x 2 =  2\t2 x 2 =  4\t3 x 2 =  6\t4 x 2 =  8\t5 x 2 = 10\t6 x 2 = 12\t7 x 2 = 14\t8 x 2 = 16\t9 x 2 = 18\t\n",
      "1 x 3 =  3\t2 x 3 =  6\t3 x 3 =  9\t4 x 3 = 12\t5 x 3 = 15\t6 x 3 = 18\t7 x 3 = 21\t8 x 3 = 24\t9 x 3 = 27\t\n",
      "1 x 4 =  4\t2 x 4 =  8\t3 x 4 = 12\t4 x 4 = 16\t5 x 4 = 20\t6 x 4 = 24\t7 x 4 = 28\t8 x 4 = 32\t9 x 4 = 36\t\n",
      "1 x 5 =  5\t2 x 5 = 10\t3 x 5 = 15\t4 x 5 = 20\t5 x 5 = 25\t6 x 5 = 30\t7 x 5 = 35\t8 x 5 = 40\t9 x 5 = 45\t\n",
      "1 x 6 =  6\t2 x 6 = 12\t3 x 6 = 18\t4 x 6 = 24\t5 x 6 = 30\t6 x 6 = 36\t7 x 6 = 42\t8 x 6 = 48\t9 x 6 = 54\t\n",
      "1 x 7 =  7\t2 x 7 = 14\t3 x 7 = 21\t4 x 7 = 28\t5 x 7 = 35\t6 x 7 = 42\t7 x 7 = 49\t8 x 7 = 56\t9 x 7 = 63\t\n",
      "1 x 8 =  8\t2 x 8 = 16\t3 x 8 = 24\t4 x 8 = 32\t5 x 8 = 40\t6 x 8 = 48\t7 x 8 = 56\t8 x 8 = 64\t9 x 8 = 72\t\n",
      "1 x 9 =  9\t2 x 9 = 18\t3 x 9 = 27\t4 x 9 = 36\t5 x 9 = 45\t6 x 9 = 54\t7 x 9 = 63\t8 x 9 = 72\t9 x 9 = 81\t\n"
     ]
    }
   ],
   "source": [
    "for i in range(1, 10):          \n",
    "    for j in range(1, 10):    \n",
    "        print(f\"{j} x {i} = {i*j:2}\", end=\"\\t\")\n",
    "    print()\n"
   ]
  },
  {
   "cell_type": "markdown",
   "id": "e2b41d4a",
   "metadata": {},
   "source": [
    "## Lab 3 - Bài 5: bài tập làm thêm"
   ]
  },
  {
   "cell_type": "code",
   "execution_count": 11,
   "id": "0e0172f7",
   "metadata": {},
   "outputs": [
    {
     "name": "stdout",
     "output_type": "stream",
     "text": [
      "\n",
      "        0. Thoát chương trình\n",
      "        1. Phep tinh co ban: Cong, tru, nhan, chia\n",
      "        2. Luy thua: Tinh x^y\n",
      "        3. Can bac hai: Tinh √x\n",
      "        4. Ham luong giac: Sin, cos, tan\n",
      "        5. Logarit: Log co so 10, ln, log co so tuy chon\n",
      "        6. Giai phuong trinh bac nhat\n",
      "        7. Giai phuong trinh bac 2\n",
      "        8. Lich su: Luu va xem lai cac phep tinh da thuc hien\n",
      "        9. Thoi gian: Hien thi thoi gian hien tai\n",
      "        10. Giao dien than thien: Menu de su dung bang tieng Viet\n",
      "        \n",
      "Căn bậc hai\n",
      "√32.0 = 5.656854249492381\n",
      "\n",
      "        0. Thoát chương trình\n",
      "        1. Phep tinh co ban: Cong, tru, nhan, chia\n",
      "        2. Luy thua: Tinh x^y\n",
      "        3. Can bac hai: Tinh √x\n",
      "        4. Ham luong giac: Sin, cos, tan\n",
      "        5. Logarit: Log co so 10, ln, log co so tuy chon\n",
      "        6. Giai phuong trinh bac nhat\n",
      "        7. Giai phuong trinh bac 2\n",
      "        8. Lich su: Luu va xem lai cac phep tinh da thuc hien\n",
      "        9. Thoi gian: Hien thi thoi gian hien tai\n",
      "        10. Giao dien than thien: Menu de su dung bang tieng Viet\n",
      "        \n",
      "Thoát chương trình\n"
     ]
    }
   ],
   "source": [
    "import math\n",
    "import datetime\n",
    "\n",
    "lich_su = []\n",
    "def luu_lich_su(entry):\n",
    "    lich_su.append(entry)\n",
    "    if len(lich_su) > 10:\n",
    "        lich_su.pop(0)\n",
    "\n",
    "menu = \"\"\"\n",
    "        0. Thoát chương trình\n",
    "        1. Phep tinh co ban: Cong, tru, nhan, chia\n",
    "        2. Luy thua: Tinh x^y\n",
    "        3. Can bac hai: Tinh √x\n",
    "        4. Ham luong giac: Sin, cos, tan\n",
    "        5. Logarit: Log co so 10, ln, log co so tuy chon\n",
    "        6. Giai phuong trinh bac nhat\n",
    "        7. Giai phuong trinh bac 2\n",
    "        8. Lich su: Luu va xem lai cac phep tinh da thuc hien\n",
    "        9. Thoi gian: Hien thi thoi gian hien tai\n",
    "        10. Giao dien than thien: Menu de su dung bang tieng Viet\n",
    "        \"\"\"\n",
    "\n",
    "while True:\n",
    "    print(menu)\n",
    "    Lua_chon = input(\"Chọn chức năng : \").strip()\n",
    "    match Lua_chon:\n",
    "        case \"0\":\n",
    "            print(\"Thoát chương trình\")\n",
    "            break\n",
    "\n",
    "        case \"1\":\n",
    "            print(\"Phép tính cơ bản\")\n",
    "            a = float(input(\"Nhập a: \"))\n",
    "            b = float(input(\"Nhập b: \"))\n",
    "            ketqua = f\"{a} + {b} = {a+b}\\n{a} - {b} = {a-b}\\n{a} * {b} = {a*b}\"\n",
    "            if b != 0:\n",
    "                ketqua += f\"\\n{a} / {b} = {a/b}\"\n",
    "            else:\n",
    "                ketqua += \"\\nKhông thể chia cho 0\"\n",
    "            print(ketqua)\n",
    "            luu_lich_su(ketqua)\n",
    "\n",
    "        case \"2\":\n",
    "            print(\"Lũy thừa\")\n",
    "            x = float(input(\"Nhập số x: \"))\n",
    "            y = float(input(\"Nhập số mũ y: \"))\n",
    "            ketqua = f\"{x}^{y} = {x**y}\"\n",
    "            print(ketqua)\n",
    "            luu_lich_su(ketqua)\n",
    "\n",
    "        case \"3\":\n",
    "            print(\"Căn bậc hai\")\n",
    "            x = float(input(\"Nhập số x: \"))\n",
    "            if x >= 0:\n",
    "                ketqua = f\"√{x} = {math.sqrt(x)}\"\n",
    "            else:\n",
    "                ketqua = \"Không thể tính căn bậc hai số âm\"\n",
    "            print(ketqua)\n",
    "            luu_lich_su(ketqua)\n",
    "\n",
    "        case \"4\":\n",
    "            print(\"Hàm lượng giác\")\n",
    "            goc = float(input(\"Nhập góc (độ): \"))\n",
    "            rad = math.radians(goc)\n",
    "            ketqua = f\"sin({goc})={math.sin(rad)}, cos({goc})={math.cos(rad)}, tan({goc})={math.tan(rad)}\"\n",
    "            print(ketqua)\n",
    "            luu_lich_su(ketqua)\n",
    "\n",
    "        case \"5\":\n",
    "            print(\"Logarit\")\n",
    "            x = float(input(\"Nhập số x: \"))\n",
    "            if x > 0:\n",
    "                ketqua = f\"log10({x})={math.log10(x)}, ln({x})={math.log(x)}\"\n",
    "                co_so = float(input(\"Nhập cơ số log (nhập 0 để bỏ qua): \"))\n",
    "                if co_so > 0 and co_so != 1:\n",
    "                    ketqua += f\", log_{co_so}({x})={math.log(x, co_so)}\"\n",
    "                else:\n",
    "                    if co_so != 0:\n",
    "                        ketqua += \", Cơ số không hợp lệ\"\n",
    "            else:\n",
    "                ketqua = \"x phải > 0 để tính logarit\"\n",
    "            print(ketqua)\n",
    "            luu_lich_su(ketqua)\n",
    "\n",
    "        case \"6\":\n",
    "            print(\"Giải phương trình bậc nhất\")\n",
    "            a = float(input(\"Nhập hệ số a: \"))\n",
    "            b = float(input(\"Nhập hệ số b: \"))\n",
    "            if a == 0:\n",
    "                if b == 0:\n",
    "                    ketqua = \"Phương trình có vô số nghiệm.\"\n",
    "                else:\n",
    "                    ketqua = \"Phương trình vô nghiệm.\"\n",
    "            else:\n",
    "                nghiem = -b / a\n",
    "                ketqua = f\"Phương trình có nghiệm x = {nghiem}\"\n",
    "            print(ketqua)\n",
    "            luu_lich_su(ketqua)\n",
    "\n",
    "        case \"7\":\n",
    "            print(\"Giải phương trình bậc hai\")\n",
    "            a = float(input(\"Nhập hệ số a: \"))\n",
    "            b = float(input(\"Nhập hệ số b: \"))\n",
    "            c = float(input(\"Nhập hệ số c: \"))\n",
    "            if a == 0:\n",
    "                if b == 0:\n",
    "                    if c == 0:\n",
    "                        ketqua = \"Phương trình có vô số nghiệm.\"\n",
    "                    else:\n",
    "                        ketqua = \"Phương trình vô nghiệm.\"\n",
    "                else:\n",
    "                    x = -c / b\n",
    "                    ketqua = f\"Phương trình bậc nhất có nghiệm x = {x}\"\n",
    "            else:\n",
    "                delta = b**2 - 4*a*c\n",
    "                if delta < 0:\n",
    "                    ketqua = \"Phương trình vô nghiệm.\"\n",
    "                elif delta == 0:\n",
    "                    x = -b / (2*a)\n",
    "                    ketqua = f\"Phương trình có nghiệm kép x = {x}\"\n",
    "                else:\n",
    "                    x1 = (-b + math.sqrt(delta)) / (2*a)\n",
    "                    x2 = (-b - math.sqrt(delta)) / (2*a)\n",
    "                    ketqua = f\"Phương trình có 2 nghiệm phân biệt: x1 = {x1}, x2 = {x2}\"\n",
    "            print(ketqua)\n",
    "            luu_lich_su(ketqua)\n",
    "\n",
    "        case \"8\":\n",
    "            print(\"Lịch sử:\")\n",
    "            if not lich_su:\n",
    "                print(\"Chưa có phép tính nào.\")\n",
    "            else:\n",
    "                for p in lich_su:\n",
    "                    print(p)\n",
    "\n",
    "        case \"9\":\n",
    "            ketqua = f\"Thời gian hiện tại: {datetime.datetime.now()}\"\n",
    "            print(ketqua)\n",
    "            luu_lich_su(ketqua)\n",
    "\n",
    "        case _:\n",
    "            print(\"Lựa chọn không hợp lệ, vui lòng chọn lại.\")"
   ]
  }
 ],
 "metadata": {
  "kernelspec": {
   "display_name": "Python 3",
   "language": "python",
   "name": "python3"
  },
  "language_info": {
   "codemirror_mode": {
    "name": "ipython",
    "version": 3
   },
   "file_extension": ".py",
   "mimetype": "text/x-python",
   "name": "python",
   "nbconvert_exporter": "python",
   "pygments_lexer": "ipython3",
   "version": "3.13.7"
  }
 },
 "nbformat": 4,
 "nbformat_minor": 5
}
