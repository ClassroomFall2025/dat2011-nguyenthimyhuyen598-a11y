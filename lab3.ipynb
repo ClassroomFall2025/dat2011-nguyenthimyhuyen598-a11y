{
 "cells": [
  {
   "cell_type": "markdown",
   "id": "fdeff819",
   "metadata": {},
   "source": [
    "# Sinh Viên thực hiện Lab 3 ở Đây"
   ]
  },
  {
   "cell_type": "markdown",
   "id": "acc5d7dc",
   "metadata": {},
   "source": [
    "## Lab 3 - Bài 1"
   ]
  },
  {
   "cell_type": "code",
   "execution_count": 10,
   "id": "001e0507",
   "metadata": {},
   "outputs": [
    {
     "name": "stdout",
     "output_type": "stream",
     "text": [
      "Thóat không nhập\n",
      "[12, 3, 5]\n",
      "dãy số đã sắp xếp [3, 5, 12]\n",
      "Phần tử nhỏ nhất: 3\n",
      "Trung bình cộng các số chia hết cho 3: 7.5\n"
     ]
    }
   ],
   "source": [
    "day_so = []\n",
    "# nhap day so\n",
    "while True:\n",
    "    so = input(\"Nhập số : \")\n",
    "    if so.lower () == \"q\":\n",
    "        print (\"Thóat không nhập\")\n",
    "        break\n",
    "    else:\n",
    "        try:\n",
    "            phan_tu = int(so)\n",
    "            day_so.append(phan_tu)\n",
    "        except ValueError:\n",
    "            print(\"Nhập không đúng, hãy nhập số q để thóat chương trình\")\n",
    "print(day_so)\n",
    "# sap xep day so tang dan\n",
    "if day_so:\n",
    " day_so.sort()\n",
    "print(\"dãy số đã sắp xếp\", day_so)\n",
    "print(\"Phần tử nhỏ nhất:\", day_so[0])\n",
    "\n",
    "tong = 0\n",
    "dem = 0\n",
    "for phantu in day_so:\n",
    "     if phantu % 3 == 0:\n",
    "        tong += phantu\n",
    "        dem += 1\n",
    "\n",
    "if dem > 0:\n",
    "    tbc = tong / dem\n",
    "    print(\"Trung bình cộng các số chia hết cho 3:\", tbc)\n",
    "else:\n",
    "    print(\"Không có phần tử nào chia hết cho 3\")\n"
   ]
  },
  {
   "cell_type": "markdown",
   "id": "c0835310",
   "metadata": {},
   "source": [
    "## Lab 3 - Bài 2"
   ]
  },
  {
   "cell_type": "code",
   "execution_count": 3,
   "id": "54274830",
   "metadata": {},
   "outputs": [
    {
     "name": "stdout",
     "output_type": "stream",
     "text": [
      "Thông tin sinh viên\n",
      "Họ tên: a\n",
      "Điểm: 5.0\n",
      "Xếp loại: Trung bình\n"
     ]
    }
   ],
   "source": [
    "# Nhập thông tin sinh viên\n",
    "sv = {}\n",
    "sv[\"Họ tên\"] = input(\"Nhập họ tên sinh viên: \")\n",
    "sv[\"Điểm\"] = float(input(\"Nhập điểm: \"))\n",
    "\n",
    "# Xét loại\n",
    "diem = sv[\"Điểm\"]\n",
    "if diem < 5:\n",
    "    xeploai = \"Yếu\"\n",
    "elif diem < 7:\n",
    "    xeploai = \"Trung bình\"\n",
    "elif diem < 8:\n",
    "    xeploai = \"Khá\"\n",
    "elif diem < 9:\n",
    "    xeploai = \"Giỏi\"\n",
    "else:\n",
    "    xeploai = \"Xuất sắc\"\n",
    "\n",
    "sv[\"Xếp loại\"] = xeploai\n",
    "\n",
    "# Xuất thông tin\n",
    "print(\"Thông tin sinh viên\")\n",
    "print(\"Họ tên:\", sv[\"Họ tên\"])\n",
    "print(\"Điểm:\", sv[\"Điểm\"])\n",
    "print(\"Xếp loại:\", sv[\"Xếp loại\"])"
   ]
  },
  {
   "cell_type": "markdown",
   "id": "0f2483fe",
   "metadata": {},
   "source": [
    "## Lab 3 - Bài 3"
   ]
  },
  {
   "cell_type": "code",
   "execution_count": null,
   "id": "7034990b",
   "metadata": {},
   "outputs": [],
   "source": [
    "# Code lab 3  bài 3 ở đây"
   ]
  },
  {
   "cell_type": "markdown",
   "id": "d36ea3d3",
   "metadata": {},
   "source": [
    "## Lab 3 - Bài 4"
   ]
  },
  {
   "cell_type": "code",
   "execution_count": null,
   "id": "4c707ec1",
   "metadata": {},
   "outputs": [
    {
     "name": "stdout",
     "output_type": "stream",
     "text": [
      "\n",
      "Bảng cửu chương 1\n",
      "1 x 1 = 1\n",
      "1 x 2 = 2\n",
      "1 x 3 = 3\n",
      "1 x 4 = 4\n",
      "1 x 5 = 5\n",
      "1 x 6 = 6\n",
      "1 x 7 = 7\n",
      "1 x 8 = 8\n",
      "1 x 9 = 9\n",
      "\n",
      "Bảng cửu chương 2\n",
      "2 x 1 = 2\n",
      "2 x 2 = 4\n",
      "2 x 3 = 6\n",
      "2 x 4 = 8\n",
      "2 x 5 = 10\n",
      "2 x 6 = 12\n",
      "2 x 7 = 14\n",
      "2 x 8 = 16\n",
      "2 x 9 = 18\n",
      "\n",
      "Bảng cửu chương 3\n",
      "3 x 1 = 3\n",
      "3 x 2 = 6\n",
      "3 x 3 = 9\n",
      "3 x 4 = 12\n",
      "3 x 5 = 15\n",
      "3 x 6 = 18\n",
      "3 x 7 = 21\n",
      "3 x 8 = 24\n",
      "3 x 9 = 27\n",
      "\n",
      "Bảng cửu chương 4\n",
      "4 x 1 = 4\n",
      "4 x 2 = 8\n",
      "4 x 3 = 12\n",
      "4 x 4 = 16\n",
      "4 x 5 = 20\n",
      "4 x 6 = 24\n",
      "4 x 7 = 28\n",
      "4 x 8 = 32\n",
      "4 x 9 = 36\n",
      "\n",
      "Bảng cửu chương 5\n",
      "5 x 1 = 5\n",
      "5 x 2 = 10\n",
      "5 x 3 = 15\n",
      "5 x 4 = 20\n",
      "5 x 5 = 25\n",
      "5 x 6 = 30\n",
      "5 x 7 = 35\n",
      "5 x 8 = 40\n",
      "5 x 9 = 45\n",
      "\n",
      "Bảng cửu chương 6\n",
      "6 x 1 = 6\n",
      "6 x 2 = 12\n",
      "6 x 3 = 18\n",
      "6 x 4 = 24\n",
      "6 x 5 = 30\n",
      "6 x 6 = 36\n",
      "6 x 7 = 42\n",
      "6 x 8 = 48\n",
      "6 x 9 = 54\n",
      "\n",
      "Bảng cửu chương 7\n",
      "7 x 1 = 7\n",
      "7 x 2 = 14\n",
      "7 x 3 = 21\n",
      "7 x 4 = 28\n",
      "7 x 5 = 35\n",
      "7 x 6 = 42\n",
      "7 x 7 = 49\n",
      "7 x 8 = 56\n",
      "7 x 9 = 63\n",
      "\n",
      "Bảng cửu chương 8\n",
      "8 x 1 = 8\n",
      "8 x 2 = 16\n",
      "8 x 3 = 24\n",
      "8 x 4 = 32\n",
      "8 x 5 = 40\n",
      "8 x 6 = 48\n",
      "8 x 7 = 56\n",
      "8 x 8 = 64\n",
      "8 x 9 = 72\n",
      "\n",
      "Bảng cửu chương 9\n",
      "9 x 1 = 9\n",
      "9 x 2 = 18\n",
      "9 x 3 = 27\n",
      "9 x 4 = 36\n",
      "9 x 5 = 45\n",
      "9 x 6 = 54\n",
      "9 x 7 = 63\n",
      "9 x 8 = 72\n",
      "9 x 9 = 81\n"
     ]
    }
   ],
   "source": [
    "for i in range(1, 10):  \n",
    "    print(f\"\\nBảng cửu chương {i}\")\n",
    "    for j in range(1, 10):  \n",
    "        print(f\"{i} x {j} = {i*j}\")\n"
   ]
  },
  {
   "cell_type": "markdown",
   "id": "e2b41d4a",
   "metadata": {},
   "source": [
    "## Lab 3 - Bài 5: bài tập làm thêm"
   ]
  },
  {
   "cell_type": "code",
   "execution_count": null,
   "id": "0e0172f7",
   "metadata": {},
   "outputs": [],
   "source": [
    "# code lab 3  bài làm thêm ở đây "
   ]
  }
 ],
 "metadata": {
  "kernelspec": {
   "display_name": "Python 3",
   "language": "python",
   "name": "python3"
  },
  "language_info": {
   "codemirror_mode": {
    "name": "ipython",
    "version": 3
   },
   "file_extension": ".py",
   "mimetype": "text/x-python",
   "name": "python",
   "nbconvert_exporter": "python",
   "pygments_lexer": "ipython3",
   "version": "3.13.7"
  }
 },
 "nbformat": 4,
 "nbformat_minor": 5
}
