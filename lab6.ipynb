{
 "cells": [
  {
   "cell_type": "markdown",
   "id": "fdeff819",
   "metadata": {},
   "source": [
    "# Sinh Viên thực hiện Lab 6 ở Đây"
   ]
  },
  {
   "cell_type": "markdown",
   "id": "acc5d7dc",
   "metadata": {},
   "source": [
    "## Lab 6 - Bài 1"
   ]
  },
  {
   "cell_type": "code",
   "execution_count": 4,
   "id": "001e0507",
   "metadata": {},
   "outputs": [
    {
     "name": "stdout",
     "output_type": "stream",
     "text": [
      "Hình chữ nhật\n",
      "Chiều dài: 4.0, Chiều rộng: 5.0\n",
      "Chu vi: 18.0, Diện tích: 20.0\n",
      "Hình vuông\n",
      "Cạnh: 5.0\n",
      "Chu vi: 20.0, Diện tích: 25.0\n"
     ]
    }
   ],
   "source": [
    "from hinh import *\n",
    "dai = float(input(\"Nhập chiều dài: \"))\n",
    "rong = float(input(\"Nhập chiều rộng: \"))\n",
    "canh = float(input(\"Nhập cạnh hình vuông: \"))\n",
    "\n",
    "cn = ChuNhat(dai, rong)\n",
    "vu = HinhVuong(canh)\n",
    "\n",
    "cn.xuat_thong_tin()\n",
    "vu.xuat_thong_tin()\n"
   ]
  },
  {
   "cell_type": "markdown",
   "id": "c0835310",
   "metadata": {},
   "source": [
    "## Lab 6 - Bài 2"
   ]
  },
  {
   "cell_type": "code",
   "execution_count": null,
   "id": "fa9cb39f",
   "metadata": {},
   "outputs": [],
   "source": [
    "# Code lab 6  bài 2 ở đây"
   ]
  },
  {
   "cell_type": "markdown",
   "id": "0f2483fe",
   "metadata": {},
   "source": [
    "## Lab 6 - Bài 3"
   ]
  },
  {
   "cell_type": "code",
   "execution_count": null,
   "id": "7034990b",
   "metadata": {},
   "outputs": [],
   "source": [
    "# Code lab 6  bài 3 ở đây"
   ]
  },
  {
   "cell_type": "markdown",
   "id": "d36ea3d3",
   "metadata": {},
   "source": [
    "## Lab 6 - Bài 4"
   ]
  },
  {
   "cell_type": "code",
   "execution_count": 1,
   "id": "4c707ec1",
   "metadata": {},
   "outputs": [
    {
     "name": "stdout",
     "output_type": "stream",
     "text": [
      "========== MENU ==========\n",
      "1. Nhập danh sách sinh viên\n",
      "2. Xuất thông tin danh sách sinh viên\n",
      "3. Xuất danh sách sinh viên có học lực giỏi\n",
      "4. Sắp xếp danh sách sinh viên theo điểm\n",
      "5. Kết thúc\n",
      "Lựa chọn không hợp lệ, vui lòng chọn lại.\n",
      "========== MENU ==========\n",
      "1. Nhập danh sách sinh viên\n",
      "2. Xuất thông tin danh sách sinh viên\n",
      "3. Xuất danh sách sinh viên có học lực giỏi\n",
      "4. Sắp xếp danh sách sinh viên theo điểm\n",
      "5. Kết thúc\n",
      "Nhập danh sách sinh viên\n",
      "kết thúc nhập thông tin sinh viên\n",
      "========== MENU ==========\n",
      "1. Nhập danh sách sinh viên\n",
      "2. Xuất thông tin danh sách sinh viên\n",
      "3. Xuất danh sách sinh viên có học lực giỏi\n",
      "4. Sắp xếp danh sách sinh viên theo điểm\n",
      "5. Kết thúc\n",
      "Xuất thông tin danh sách sinh viên\n",
      "Tên sinh vien, Ngành học, Điểm, Học lực\n",
      "huy,it, 7.75,Khá\n",
      "huyen,it, 8.75,Giỏi\n",
      "========== MENU ==========\n",
      "1. Nhập danh sách sinh viên\n",
      "2. Xuất thông tin danh sách sinh viên\n",
      "3. Xuất danh sách sinh viên có học lực giỏi\n",
      "4. Sắp xếp danh sách sinh viên theo điểm\n",
      "5. Kết thúc\n",
      "Xuất danh sách sinh viên có học lực giỏi\n",
      "Danh sách sinh viên giỏi:\n",
      "huyen,it, 8.75,Giỏi\n",
      "========== MENU ==========\n",
      "1. Nhập danh sách sinh viên\n",
      "2. Xuất thông tin danh sách sinh viên\n",
      "3. Xuất danh sách sinh viên có học lực giỏi\n",
      "4. Sắp xếp danh sách sinh viên theo điểm\n",
      "5. Kết thúc\n",
      "Sắp xếp danh sách sinh viên theo điểm\n",
      "Đã sắp xếp danh sách sinh viên theo điểm giảm dần.\n",
      "========== MENU ==========\n",
      "1. Nhập danh sách sinh viên\n",
      "2. Xuất thông tin danh sách sinh viên\n",
      "3. Xuất danh sách sinh viên có học lực giỏi\n",
      "4. Sắp xếp danh sách sinh viên theo điểm\n",
      "5. Kết thúc\n",
      "Chương trình kết thúc.\n"
     ]
    }
   ],
   "source": [
    "from QuanlySV import *\n",
    "ql = quanlisinhvien()\n",
    "\n",
    "menu = {\n",
    "    \"1\": \"Nhập danh sách sinh viên\",\n",
    "    \"2\": \"Xuất thông tin danh sách sinh viên\",\n",
    "    \"3\": \"Xuất danh sách sinh viên có học lực giỏi\",\n",
    "    \"4\": \"Sắp xếp danh sách sinh viên theo điểm\",\n",
    "    \"5\": \"Kết thúc\"\n",
    "}\n",
    "\n",
    "while True:\n",
    "    print(\"=\" * 10 + \" MENU \" + \"=\" * 10)\n",
    "    for k, v in menu.items():\n",
    "        print(f\"{k}. {v}\")\n",
    "\n",
    "    Lua_chon = input(\"Chọn chức năng: \")\n",
    "\n",
    "    if Lua_chon == '5':\n",
    "        print(\"Chương trình kết thúc.\")\n",
    "        break\n",
    "    elif Lua_chon == '1':\n",
    "        print(\"Nhập danh sách sinh viên\")\n",
    "        ql.nhap_danh_sach_sinh_vien()\n",
    "    elif Lua_chon == '2':\n",
    "        print(\"Xuất thông tin danh sách sinh viên\")\n",
    "        ql.xuat_danh_sach_sinh_vien()\n",
    "    elif Lua_chon == '3':\n",
    "        print(\"Xuất danh sách sinh viên có học lực giỏi\")\n",
    "        ql.xuat_danh_sach_sinh_vien_gioi()\n",
    "    elif Lua_chon == '4':\n",
    "        print(\"Sắp xếp danh sách sinh viên theo điểm\")\n",
    "        ql.sap_xep_dssv()\n",
    "    else:\n",
    "        print(\"Lựa chọn không hợp lệ, vui lòng chọn lại.\")"
   ]
  },
  {
   "cell_type": "markdown",
   "id": "e2b41d4a",
   "metadata": {},
   "source": [
    "## Lab 6 - Bài 5: bài tập làm thêm"
   ]
  },
  {
   "cell_type": "code",
   "execution_count": null,
   "id": "0e0172f7",
   "metadata": {},
   "outputs": [],
   "source": [
    "# code lab 6  bài làm thêm ở đây "
   ]
  }
 ],
 "metadata": {
  "kernelspec": {
   "display_name": "Python 3",
   "language": "python",
   "name": "python3"
  },
  "language_info": {
   "codemirror_mode": {
    "name": "ipython",
    "version": 3
   },
   "file_extension": ".py",
   "mimetype": "text/x-python",
   "name": "python",
   "nbconvert_exporter": "python",
   "pygments_lexer": "ipython3",
   "version": "3.13.7"
  }
 },
 "nbformat": 4,
 "nbformat_minor": 5
}
