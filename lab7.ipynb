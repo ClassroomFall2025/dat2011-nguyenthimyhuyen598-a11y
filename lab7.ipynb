{
 "cells": [
  {
   "cell_type": "markdown",
   "id": "fdeff819",
   "metadata": {},
   "source": [
    "# Sinh Viên thực hiện Lab 7 ở Đây"
   ]
  },
  {
   "cell_type": "markdown",
   "id": "acc5d7dc",
   "metadata": {},
   "source": [
    "## Lab 7 - Bài 1"
   ]
  },
  {
   "cell_type": "code",
   "execution_count": 2,
   "id": "001e0507",
   "metadata": {},
   "outputs": [
    {
     "name": "stdout",
     "output_type": "stream",
     "text": [
      "Tự nguyện\n",
      "Trương Quốc Khánh\n",
      "Nếu là chim, tôi sẽ là loài bồ câu trắng\n",
      "Nếu là hoa, tôi sẽ là một đóa hướng dương\n",
      "Nếu là mây, tôi sẽ là một vầng mây ấm\n",
      "Là người, tôi sẽ chết cho quê hương.\n",
      "\n",
      "Là chim, tôi sẽ cất cao đôi cánh mềm\n",
      "Từ nam ra ngoài bắc báo tin nối liền\n",
      "Là hoa, tôi nở tình yêu ban sớm\n",
      "Cùng muôn trái tim ngất ngây hoà bình.\n",
      "\n",
      "Là mây, theo làn gió tung bay khắp trời\n",
      "Nghìn xưa oai hùng đó tôi xin tiếp lời\n",
      "Là người, xin một lần khi nằm xuống\n",
      "Nhìn anh em đứng lên phất cao ngọn cờ.\n",
      "\n",
      "Tự nguyện\n",
      "\n",
      "Trương Quốc Khánh\n",
      "\n"
     ]
    }
   ],
   "source": [
    "file = open (\"DAT2011 - Lab 7 - Resource.txt\", \"r\", encoding=\"utf-8\")\n",
    "noidung = file.read()\n",
    "print(noidung)\n",
    "file.close()\n",
    "print()\n",
    "# Đọc 9 kí tự đầu tiên\n",
    "file = open (\"DAT2011 - Lab 7 - Resource.txt\", \"r\", encoding=\"utf-8\")\n",
    "noidung = file.readline()\n",
    "print(noidung)\n",
    "file.close()\n",
    "# Đọc tên tác giả\n",
    "file = open (\"DAT2011 - Lab 7 - Resource.txt\", \"r\", encoding=\"utf-8\")\n",
    "dong = file.readlines() \n",
    "print(dong[1])"
   ]
  },
  {
   "cell_type": "markdown",
   "id": "c0835310",
   "metadata": {},
   "source": [
    "## Lab 7 - Bài 2"
   ]
  },
  {
   "cell_type": "code",
   "execution_count": 3,
   "id": "fa9cb39f",
   "metadata": {},
   "outputs": [
    {
     "name": "stdout",
     "output_type": "stream",
     "text": [
      "Nếu một mai tôi có đi qua đời\n",
      "Thì người ơi tôi đã sống rất tuyệt vời\n"
     ]
    }
   ],
   "source": [
    "with open (\"Lab7-Exercise.txt\", \"w\", encoding=\"utf-8\") as file:\n",
    "    file.write(\"Nếu một mai tôi có đi qua đời\\n\")\n",
    "    file.write(\"Thì người ơi tôi đã sống rất tuyệt vời\")\n",
    "with open (\"Lab7-Exercise.txt\", \"r\", encoding=\"utf-8\") as file:\n",
    "    print(file.read())"
   ]
  },
  {
   "cell_type": "markdown",
   "id": "0f2483fe",
   "metadata": {},
   "source": [
    "## Lab 7 - Bài 3"
   ]
  },
  {
   "cell_type": "code",
   "execution_count": 5,
   "id": "7034990b",
   "metadata": {},
   "outputs": [
    {
     "name": "stdout",
     "output_type": "stream",
     "text": [
      "\n",
      "--- Bài thơ 1 ---\n",
      "\n",
      "--- Bài thơ 2 ---\n",
      "\n",
      "--- Bài thơ 3 ---\n",
      "\n",
      "--- Bài thơ 4 ---\n",
      "\n",
      "--- Bài thơ 5 ---\n",
      "\n",
      " Đã lưu thông tin 5 bài thơ vào file 'Lab7-Bai3' thành công!\n"
     ]
    }
   ],
   "source": [
    "# Nhập tên file CSV\n",
    "filename = input(\"Nhập tên file .csv: \")\n",
    "with open(filename, \"w\", encoding=\"utf-8\") as f:\n",
    "    # Ghi dòng tiêu đề (header)\n",
    "    f.write(\"Tiêu đề | tác giả | năm sáng tác\\n\")\n",
    "\n",
    "    # Ghi từng dòng\n",
    "    for i in range(5):\n",
    "        print(f\"\\n--- Bài thơ {i+1} ---\")\n",
    "        Tieu_de = input(\"Tiêu đề: \")\n",
    "        Tac_gia = input(\"Tác giả: \")\n",
    "        Nam_sang_tac = input(\"Năm sáng tác: \")\n",
    "    \n",
    "\n",
    "        # Ghi một dòng vào file bằng f-string\n",
    "        line = f\"{Tieu_de} | {Tac_gia} | {Nam_sang_tac}\\n\"\n",
    "        f.write(line)\n",
    "\n",
    "print(f\"\\n Đã lưu thông tin {5} bài thơ vào file '{filename}' thành công!\")"
   ]
  },
  {
   "cell_type": "markdown",
   "id": "d36ea3d3",
   "metadata": {},
   "source": [
    "## Lab 7 - Bài 4"
   ]
  },
  {
   "cell_type": "code",
   "execution_count": 6,
   "id": "4c707ec1",
   "metadata": {},
   "outputs": [],
   "source": [
    "\n",
    "with open(\"DAT2011 - Lab 7 - Resource.txt\", \"r\", encoding=\"utf-8\") as f:\n",
    "    lines = [line.strip() for line in f.readlines()]\n",
    "\n",
    "# Lấy tên bài thơ và tác giả\n",
    "ten_bai_tho = lines[0]\n",
    "tac_gia = lines[1]\n",
    "\n",
    "# Phần nội dung còn lại (bắt đầu từ dòng thứ 3)\n",
    "noi_dung = lines[2:]\n",
    "\n",
    "#Mỗi khổ thơ (section) cách nhau bởi 1 dòng trống\n",
    "sections = []\n",
    "section = []\n",
    "for line in noi_dung:\n",
    "    if line == \"\":\n",
    "        if section:\n",
    "            sections.append(\" \".join(section))\n",
    "            section = []\n",
    "    else:\n",
    "        section.append(line)\n",
    "if section:\n",
    "    sections.append(\" \".join(section))\n",
    "\n",
    "# Ghi ra file XML\n",
    "with open(\"Resource.xml\", \"w\", encoding=\"utf-8\") as f:\n",
    "    f.write(\"<songs>\\n\")\n",
    "    f.write(\"  <song>\\n\")\n",
    "    f.write(f\"    <name>{ten_bai_tho}</name>\\n\")\n",
    "    f.write(f\"    <author>{tac_gia}</author>\\n\")\n",
    "    for s in sections:\n",
    "        f.write(f\"    <section>{s}</section>\\n\")\n",
    "    f.write(\"  </song>\\n\")\n",
    "    f.write(\"</songs>\")\n"
   ]
  },
  {
   "cell_type": "markdown",
   "id": "e2b41d4a",
   "metadata": {},
   "source": [
    "## Lab 7 - Bài 5: bài tập làm thêm"
   ]
  },
  {
   "cell_type": "code",
   "execution_count": null,
   "id": "0e0172f7",
   "metadata": {},
   "outputs": [],
   "source": [
    "# code lab 7  bài làm thêm ở đây "
   ]
  }
 ],
 "metadata": {
  "kernelspec": {
   "display_name": "Python 3",
   "language": "python",
   "name": "python3"
  },
  "language_info": {
   "codemirror_mode": {
    "name": "ipython",
    "version": 3
   },
   "file_extension": ".py",
   "mimetype": "text/x-python",
   "name": "python",
   "nbconvert_exporter": "python",
   "pygments_lexer": "ipython3",
   "version": "3.13.7"
  }
 },
 "nbformat": 4,
 "nbformat_minor": 5
}
