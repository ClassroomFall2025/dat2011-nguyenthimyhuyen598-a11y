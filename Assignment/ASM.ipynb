{
 "cells": [
  {
   "cell_type": "code",
   "execution_count": 2,
   "id": "a10fb8c6",
   "metadata": {},
   "outputs": [
    {
     "name": "stdout",
     "output_type": "stream",
     "text": [
      "\n",
      "        ========== QUẢN LÝ NHÂN VIÊN CÔNG TY RỒNG VIỆT ==========\n",
      "        0. Thoát chương trình\n",
      "        1. Nhập danh sách nhân viên\n",
      "        2. Xuất danh sách nhân viên\n",
      "        3. Tìm nhân viên theo mã\n",
      "        4. Xóa nhân viên theo mã\n",
      "        5. Cập nhật thông tin nhân viên\n",
      "        6. Tìm nhân viên theo khoảng lương\n",
      "        7. Sắp xếp nhân viên theo họ tên\n",
      "        8. Sắp xếp nhân viên theo thu nhập\n",
      "        9. Xuất 5 nhân viên có thu nhập cao nhất\n",
      "        \n",
      "Thoát chương trình\n"
     ]
    }
   ],
   "source": [
    "\n",
    "menu = \"\"\"\n",
    "        ========== QUẢN LÝ NHÂN VIÊN CÔNG TY RỒNG VIỆT ==========\n",
    "        0. Thoát chương trình\n",
    "        1. Nhập danh sách nhân viên\n",
    "        2. Xuất danh sách nhân viên\n",
    "        3. Tìm nhân viên theo mã\n",
    "        4. Xóa nhân viên theo mã\n",
    "        5. Cập nhật thông tin nhân viên\n",
    "        6. Tìm nhân viên theo khoảng lương\n",
    "        7. Sắp xếp nhân viên theo họ tên\n",
    "        8. Sắp xếp nhân viên theo thu nhập\n",
    "        9. Xuất 5 nhân viên có thu nhập cao nhất\n",
    "        \"\"\"\n",
    "while True:\n",
    "    print(menu)\n",
    "    Lua_chon = input(\"Chọn chức năng: \")\n",
    "    match Lua_chon:\n",
    "        case \"0\":\n",
    "            print(\"Thoát chương trình\")\n",
    "            break \n",
    "        case \"1\":\n",
    "            print(\"Nhập danh sách nhân viên\")\n",
    "        case \"2\":\n",
    "            print(\"Xuất danh sách nhân viên\")\n",
    "        case \"3\":\n",
    "            print(\"Tìm nhân viên theo mã\")\n",
    "        case \"4\":\n",
    "            print(\"Xóa nhân viên theo mã\")\n",
    "        case \"5\":\n",
    "            print(\"Cập nhật thông tin nhân viên\")\n",
    "        case \"6\":\n",
    "            print(\"Tìm nhân viên theo khoảng lương\")\n",
    "        case \"7\":\n",
    "            print(\"Sắp xếp nhân viên theo họ tên\")\n",
    "        case \"8\":\n",
    "            print(\"Sắp xếp nhân viên theo thu nhập\")\n",
    "        case \"9\":\n",
    "            print(\"Xuất 5 nhân viên có thu nhập cao nhất\")\n",
    "        case _:\n",
    "            print(\"Lựa chọn không hợp lệ. Vui lòng chọn lại!\")"
   ]
  }
 ],
 "metadata": {
  "kernelspec": {
   "display_name": "Python 3",
   "language": "python",
   "name": "python3"
  },
  "language_info": {
   "codemirror_mode": {
    "name": "ipython",
    "version": 3
   },
   "file_extension": ".py",
   "mimetype": "text/x-python",
   "name": "python",
   "nbconvert_exporter": "python",
   "pygments_lexer": "ipython3",
   "version": "3.13.7"
  }
 },
 "nbformat": 4,
 "nbformat_minor": 5
}
