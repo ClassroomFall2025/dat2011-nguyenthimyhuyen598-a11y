{
 "cells": [
  {
   "cell_type": "markdown",
   "id": "fdeff819",
   "metadata": {},
   "source": [
    "# Sinh Viên thực hiện Lab 4 ở Đây"
   ]
  },
  {
   "cell_type": "markdown",
   "id": "acc5d7dc",
   "metadata": {},
   "source": [
    "## Lab 1 - Bài 1"
   ]
  },
  {
   "cell_type": "code",
   "execution_count": null,
   "id": "001e0507",
   "metadata": {},
   "outputs": [],
   "source": [
    "# Code lab 4 bài 1 ở đây"
   ]
  },
  {
   "cell_type": "markdown",
   "id": "c0835310",
   "metadata": {},
   "source": [
    "## Lab 4 - Bài 2"
   ]
  },
  {
   "cell_type": "code",
   "execution_count": null,
   "id": "fa9cb39f",
   "metadata": {},
   "outputs": [],
   "source": [
    "# Code lab 4  bài 2 ở đây"
   ]
  },
  {
   "cell_type": "markdown",
   "id": "0f2483fe",
   "metadata": {},
   "source": [
    "## Lab 4 - Bài 3"
   ]
  },
  {
   "cell_type": "code",
   "execution_count": null,
   "id": "7034990b",
   "metadata": {},
   "outputs": [],
   "source": [
    "def nhap_day_so():\n",
    "    ds = []\n",
    "    while True:\n",
    "        val = input(\"Nhập số nguyên (hoặc 's' để dừng): \")\n",
    "        if val.lower() == 's':\n",
    "            break\n",
    "        try:\n",
    "            num = int(val)\n",
    "            ds.append(num)\n",
    "        except ValueError:\n",
    "            print(\"Vui lòng nhập số nguyên hợp lệ!\")\n",
    "    return ds\n",
    "\n",
    "\n",
    "def loc_so_chan(ds):\n",
    "    return list(filter(lambda x: x % 2 == 0, ds))"
   ]
  },
  {
   "cell_type": "markdown",
   "id": "d36ea3d3",
   "metadata": {},
   "source": [
    "## Lab 4 - Bài 4"
   ]
  },
  {
   "cell_type": "code",
   "execution_count": 21,
   "id": "4c707ec1",
   "metadata": {},
   "outputs": [
    {
     "name": "stdout",
     "output_type": "stream",
     "text": [
      "========== Menu ==========\n",
      "1: Tính tiền nước sinh hoạt\n",
      "2: Tính nguyên liệu làm bánh\n",
      "3: Thoát\n",
      "========================\n",
      "Tính tiền nước\n",
      "Tiền nước phải trả cho 12 m3 nước là: 92600 VND\n",
      "========== Menu ==========\n",
      "1: Tính tiền nước sinh hoạt\n",
      "2: Tính nguyên liệu làm bánh\n",
      "3: Thoát\n",
      "========================\n",
      "Tính nguyên liệu làm bánh\n",
      "Bánh đậu xanh: 1\n",
      "Bánh thập cẩm: 2\n",
      "Bánh dẻo: 3\n",
      "Số lượng đường cần dùng:  0.31000000000000005 kg\n",
      "Số lượng đậu cần dùng:  0.13 kg\n",
      "========== Menu ==========\n",
      "1: Tính tiền nước sinh hoạt\n",
      "2: Tính nguyên liệu làm bánh\n",
      "3: Thoát\n",
      "========================\n",
      "Thoát chương trình\n"
     ]
    }
   ],
   "source": [
    "from lab4 import tinh_tien_nuoc\n",
    "from lab4 import tinh_nguyen_lieu\n",
    "menu = {\n",
    "    \"1\": \"Tính tiền nước sinh hoạt\",\n",
    "    \"2\": \"Tính nguyên liệu làm bánh\",\n",
    "    \"3\": \"Thoát\"\n",
    "}\n",
    "\n",
    "while True:\n",
    "    print(\"=\" * 10 + \" Menu \" + \"=\" * 10)\n",
    "    for k, v in menu.items():\n",
    "        print(f\"{k}: {v}\")\n",
    "    print(\"=\" * 10 + \"====\" + \"=\" * 10)\n",
    "\n",
    "    lua_chon = input(\"Chọn chức năng: \")\n",
    "\n",
    "    if lua_chon == \"3\":\n",
    "        print(\"Thoát chương trình\")\n",
    "        break\n",
    "\n",
    "    elif lua_chon == \"1\":\n",
    "        print(\"Tính tiền nước\")\n",
    "        so_nuoc = int(input(\"Nhập số nước tiêu thụ(m3): \"))\n",
    "        print(f\"Tiền nước phải trả cho {so_nuoc} m3 nước là: {tinh_tien_nuoc(so_nuoc)} VND\")\n",
    "\n",
    "    elif lua_chon == \"2\":\n",
    "        print(\"Tính nguyên liệu làm bánh\")\n",
    "        sl_bdx = int(input(\"Nhập số lượng bánh đậu xanh: \"))\n",
    "        sl_btc = int(input(\"Nhập số lượng bánh thập cẩm: \"))    \n",
    "        sl_bd = int(input(\"Nhập số lượng bánh dẻo: \"))\n",
    "        print(f\"Bánh đậu xanh: {sl_bdx}\")\n",
    "        print(f\"Bánh thập cẩm: {sl_btc}\")\n",
    "        print(f\"Bánh dẻo: {sl_bd}\")\n",
    "        nguyen_lieu = tinh_nguyen_lieu(sl_bdx, sl_btc, sl_bd)\n",
    "        print(\"Số lượng đường cần dùng: \", nguyen_lieu[\"đường\"], \"kg\")\n",
    "        print(\"Số lượng đậu cần dùng: \", nguyen_lieu[\"đậu\"], \"kg\")\n",
    "    else:\n",
    "        print(\"Lựa chọn không hợp lệ, vui lòng chọn lại\")"
   ]
  },
  {
   "cell_type": "markdown",
   "id": "e2b41d4a",
   "metadata": {},
   "source": [
    "## Lab 4 - Bài 5: bài tập làm thêm"
   ]
  },
  {
   "cell_type": "code",
   "execution_count": 1,
   "id": "0e0172f7",
   "metadata": {},
   "outputs": [],
   "source": [
    "# code lab 4  bài làm thêm ở đây "
   ]
  }
 ],
 "metadata": {
  "kernelspec": {
   "display_name": "Python 3",
   "language": "python",
   "name": "python3"
  },
  "language_info": {
   "codemirror_mode": {
    "name": "ipython",
    "version": 3
   },
   "file_extension": ".py",
   "mimetype": "text/x-python",
   "name": "python",
   "nbconvert_exporter": "python",
   "pygments_lexer": "ipython3",
   "version": "3.13.7"
  }
 },
 "nbformat": 4,
 "nbformat_minor": 5
}
